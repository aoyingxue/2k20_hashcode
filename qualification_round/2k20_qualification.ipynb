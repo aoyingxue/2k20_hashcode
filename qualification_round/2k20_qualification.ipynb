{
 "cells": [
  {
   "cell_type": "code",
   "execution_count": 24,
   "metadata": {
    "colab": {
     "base_uri": "https://localhost:8080/",
     "height": 34
    },
    "colab_type": "code",
    "id": "LaMzgh6p-FNm",
    "outputId": "e847dc7a-313e-4e59-a48d-7f1eaf381e69"
   },
   "outputs": [
    {
     "name": "stdout",
     "output_type": "stream",
     "text": [
      "Drive already mounted at /content/drive; to attempt to forcibly remount, call drive.mount(\"/content/drive\", force_remount=True).\n"
     ]
    }
   ],
   "source": [
    "from google.colab import drive\n",
    "drive.mount('/content/drive')\n",
    "\n",
    "import os\n",
    "os.chdir(\"/content/drive/My Drive/Colab Notebooks/HashCode/qualification_round\")"
   ]
  },
  {
   "cell_type": "code",
   "execution_count": null,
   "metadata": {
    "colab": {},
    "colab_type": "code",
    "id": "S5A5CU-p-SGo"
   },
   "outputs": [],
   "source": [
    "import numpy as np\n",
    "import pandas as pd\n",
    "\n",
    "f = open(\"/content/drive/My Drive/Colab Notebooks/HashCode/qualification_round/data/a.txt\", \"r\")\n",
    "input1 = f.read().strip(\"\\n\").split(\"\\n\")\n",
    "\n",
    "## read all files into inputs\n",
    "f2 = open(\"/content/drive/My Drive/Colab Notebooks/HashCode/qualification_round/data/b.txt\", \"r\")\n",
    "input2 = f2.read().strip(\"\\n\").split(\"\\n\")\n",
    "\n",
    "f3 = open(\"/content/drive/My Drive/Colab Notebooks/HashCode/qualification_round/data/c.txt\", \"r\")\n",
    "input3 = f3.read().strip(\"\\n\").split(\"\\n\")\n",
    "\n",
    "f4 = open(\"/content/drive/My Drive/Colab Notebooks/HashCode/qualification_round/data/d.txt\", \"r\")\n",
    "input4 = f4.read().strip(\"\\n\").split(\"\\n\")\n",
    "\n",
    "f5 = open(\"/content/drive/My Drive/Colab Notebooks/HashCode/qualification_round/data/e.txt\", \"r\")\n",
    "input5 = f5.read().strip(\"\\n\").split(\"\\n\")\n",
    "\n",
    "f6 = open(\"/content/drive/My Drive/Colab Notebooks/HashCode/qualification_round/data/f.txt\", \"r\")\n",
    "input6 = f6.read().strip(\"\\n\").split(\"\\n\")\n"
   ]
  },
  {
   "cell_type": "code",
   "execution_count": 212,
   "metadata": {},
   "outputs": [],
   "source": [
    "import numpy as np\n",
    "import pandas as pd\n",
    "\n",
    "f = open(\"b.txt\", \"r\")\n",
    "input1 = f.read().strip(\"\\n\").split(\"\\n\")\n",
    "\n",
    "## read all files into inputs\n",
    "# f2 = open(\"/data/b.txt\", \"r\")\n",
    "# input2 = f2.read().strip(\"\\n\").split(\"\\n\")\n",
    "\n",
    "# f3 = open(\"/content/drive/My Drive/Colab Notebooks/HashCode/qualification_round/data/c.txt\", \"r\")\n",
    "# input3 = f3.read().strip(\"\\n\").split(\"\\n\")\n",
    "\n",
    "# f4 = open(\"/content/drive/My Drive/Colab Notebooks/HashCode/qualification_round/data/d.txt\", \"r\")\n",
    "# input4 = f4.read().strip(\"\\n\").split(\"\\n\")\n",
    "\n",
    "# f5 = open(\"/content/drive/My Drive/Colab Notebooks/HashCode/qualification_round/data/e.txt\", \"r\")\n",
    "# input5 = f5.read().strip(\"\\n\").split(\"\\n\")\n",
    "\n",
    "# f6 = open(\"/content/drive/My Drive/Colab Notebooks/HashCode/qualification_round/data/f.txt\", \"r\")\n",
    "# input6 = f6.read().strip(\"\\n\").split(\"\\n\")"
   ]
  },
  {
   "cell_type": "code",
   "execution_count": null,
   "metadata": {},
   "outputs": [],
   "source": []
  },
  {
   "cell_type": "code",
   "execution_count": 205,
   "metadata": {
    "colab": {},
    "colab_type": "code",
    "id": "enmD31dz_GXb"
   },
   "outputs": [],
   "source": [
    "def get_books(input_):\n",
    "    return [int(x) for x in input_[0].split(\" \")][0]\n",
    "\n",
    "def get_libs(input_):\n",
    "    return [int(x) for x in input_[0].split(\" \")][1]\n",
    "\n",
    "def get_days(input_):\n",
    "    return [int(x) for x in input_[0].split(\" \")][2]\n",
    "\n",
    "def get_scores(input_):\n",
    "    return [int(x) for x in input_[1].split(\" \")]\n",
    "\n",
    "def get_lib_info(input_,i): ## x=library x\n",
    "## first line is how many books, signup days, lib ship how many books per day\n",
    "## second line is which books they have\n",
    "    rows=[x for x in input_[2:]]\n",
    "    lib_i=rows[i*2:(i+1)*2]\n",
    "    lib_i=[x.split(\" \") for x in lib_i]\n",
    "    return [[int(x) for x in lib_i[0]],[int(x) for x in lib_i[1]]] \n",
    "\n",
    "\n",
    "def get_book_score(books,S):\n",
    "    book_score=dict(zip(books,S))\n",
    "    \n",
    "    return book_score\n",
    "    \n",
    "    \n",
    "def total_scores(books): #[(),()]\n",
    "    all_books=[]\n",
    "#     for l in books:\n",
    "    for b in books:\n",
    "        if b not in all_books:\n",
    "            all_books.append(b)\n",
    "    indices=[x[0] for x in all_books]\n",
    "    \n",
    "    return sum([S[x] for x in indices])"
   ]
  },
  {
   "cell_type": "code",
   "execution_count": 213,
   "metadata": {
    "colab": {},
    "colab_type": "code",
    "id": "xASnPZ1M0SBl"
   },
   "outputs": [],
   "source": [
    "## example\n",
    "B=get_books(input1)\n",
    "L=get_libs(input1)\n",
    "S=get_scores(input1)\n",
    "D=get_days(input1)\n",
    "\n",
    "libs=[get_lib_info(input1,i) for i in range(L)]\n",
    "\n",
    "books=libs[0][1]\n",
    "book_score_0=get_book_score(books,S)\n",
    "\n"
   ]
  },
  {
   "cell_type": "code",
   "execution_count": 207,
   "metadata": {
    "colab": {
     "base_uri": "https://localhost:8080/",
     "height": 34
    },
    "colab_type": "code",
    "id": "qCSz1VD91nB8",
    "outputId": "ec4fcde1-13f2-4a50-bb15-be6f136facfb"
   },
   "outputs": [],
   "source": [
    "# S=get_scores(input1)\n",
    "\n",
    "# l:indices of the rest of the library\n",
    "# days: rest of the days\n",
    "# sort_books scores\n",
    "def find_signup(l, days, s): \n",
    "    ## given rest of the days and then find the first signup library\n",
    "    ## days are updated\n",
    "    \n",
    "    scores={}\n",
    "    total_days={}\n",
    "    \n",
    "    for i in l:\n",
    "        score_i=sort_books(i,days,s)[0] # new score for lib i\n",
    "        \n",
    "        scores[i]=score_i #[{i:score_i},(...)]\n",
    "        total_days[i]=get_total_days(i,days,s)\n",
    "    \n",
    "    sort_scores=sorted(scores.items(),key=lambda x:x[1],reverse=True)\n",
    "#     print(f\"sort_scores!:{sort_scores}\")\n",
    "    \n",
    "    ## compare the day length among those with the maximum scores\n",
    "    ## update indices of the rest of the library\n",
    "    index=sort_scores[0][0]\n",
    "    l.remove(index)\n",
    "#     print(f\"lib:{l}\")\n",
    "    \n",
    "    return sort_scores[0][0],l ##output: lib with highest score, rest of the lib indices\n",
    "\n",
    "def get_total_days(l,days,s):\n",
    "    # total days for lib i\n",
    "    num_of_books=libs[l][0][0]\n",
    "    ship_books=libs[l][0][2]\n",
    "    \n",
    "    if num_of_books%ship_books==0:\n",
    "        total_ship_days=num_of_books/ship_books #ship\n",
    "    else:\n",
    "        total_ship_days=int(num_of_books/ship_books)+1\n",
    "        \n",
    "    if total_ship_days+libs[l][0][1]>days:\n",
    "        total_days=days\n",
    "    else:\n",
    "        total_days=total_ship_days+libs[l][0][1]\n",
    "    return total_days\n",
    "        \n",
    "\n",
    "def update_scores(past_libs,s): ## [[(5, 6), (3, 3), (2, 2), (0, 1)],[...]]\n",
    "    all_books=[]\n",
    "    for l in past_libs:\n",
    "        for b in l:\n",
    "            if b not in all_books:\n",
    "                all_books.append(b)\n",
    "        \n",
    "    indices=[x[0] for x in all_books]\n",
    "    s_copy=s.copy()\n",
    "    for i in indices:\n",
    "        s_copy[i]=0\n",
    "    return s_copy\n",
    "\n",
    "def sort_books(l, days, s): #library index, rest of the days\n",
    "    \n",
    "    rest_days=days-libs[l][0][1] #minus signup days\n",
    "    num_of_books=libs[l][0][0]\n",
    "    ship_books=libs[l][0][2]\n",
    "    \n",
    "    if num_of_books%ship_books==0:\n",
    "        total_ship_days=num_of_books/ship_books #ship\n",
    "    else:\n",
    "        total_ship_days=int(num_of_books/ship_books)+1\n",
    "#     print(total_days)\n",
    "\n",
    "    book_score=get_book_score(libs[l][1],s)\n",
    "    sort_books=sorted(book_score.items(),key=lambda x:x[1],reverse=True)\n",
    "    \n",
    "    if total_ship_days>rest_days:\n",
    "        drop_books=num_of_books-rest_days*ship_books\n",
    "        sort_books=sort_books[:(-1*drop_books)]\n",
    "        \n",
    "    score=total_scores(sort_books)\n",
    "    return score,sort_books\n",
    "    "
   ]
  },
  {
   "cell_type": "code",
   "execution_count": 214,
   "metadata": {},
   "outputs": [
    {
     "name": "stdout",
     "output_type": "stream",
     "text": [
      "done\n",
      "sort_book_num:[999, 998, 996, 994, 992, 990, 988, 985, 982, 979, 976, 972, 968, 964, 960, 956, 951, 946, 941, 936, 930, 924, 918, 912, 905, 898, 891, 884, 876, 868, 860, 852, 844, 836, 828, 820, 812, 803, 793, 783, 773, 763, 753, 742, 731, 719, 707, 695, 683, 671, 658, 645, 631, 617, 603, 589, 574, 559, 544, 529, 514, 499, 484, 469, 454, 439, 423, 407, 391, 375, 359, 343, 326, 309, 292, 275, 258, 241, 223, 205, 187, 169, 151, 133, 115, 97, 78, 59, 39, 19, 0]\n"
     ]
    }
   ],
   "source": [
    "## iterate in all library\n",
    "rest_ship_days=D\n",
    "S_update=S\n",
    "l=list(range(L))\n",
    "rest_days=D\n",
    "\n",
    "chosen_lib_num=0\n",
    "chosen_list=[]\n",
    "sort_book_list=[]\n",
    "sort_book_num=[]\n",
    "\n",
    "while rest_ship_days>=1 and len(l)>0:\n",
    "    \n",
    "    find=find_signup(l, rest_ship_days, S_update)\n",
    "    \n",
    "    chosen_lib=find[0]\n",
    "    chosen_list.append(chosen_lib)\n",
    "    \n",
    "    sort_book=[x[0] for x in sort_books(chosen_lib, rest_ship_days, S_update)[1]]\n",
    "    sort_book_list.append(sort_book)\n",
    "    sort_book_num.append(len(sort_book))\n",
    "    \n",
    "    chosen_lib_num+=1 ## first line in output\n",
    "    \n",
    "    l=find[1] #rest of libs\n",
    "    \n",
    "    rest_ship_days=rest_days-libs[chosen_lib][0][1]\n",
    "    \n",
    "    S_updated=update_scores([sort_books(chosen_lib,rest_days,S_update)[1]],S_update)\n",
    "    \n",
    "    rest_days=rest_ship_days\n",
    "    \n",
    "print(\"done\")\n",
    "# print(f\"chosen_lib_num:{chosen_lib_num}\")\n",
    "# print(f\"chosen_list:{chosen_list}\")\n",
    "# print(f\"sort_book_list:{sort_book_list}\")\n",
    "print(f\"sort_book_num:{sort_book_num}\")"
   ]
  },
  {
   "cell_type": "code",
   "execution_count": 215,
   "metadata": {
    "colab": {},
    "colab_type": "code",
    "id": "PPMXCS5O-R_4"
   },
   "outputs": [],
   "source": [
    "text=str(chosen_lib_num)+\"\\n\"\n",
    "for i in range(len(chosen_list)):\n",
    "    text+=str(chosen_list[i])+\" \"+str(sort_book_num[i])+\"\\n\"\n",
    "    text+=str(sort_book_list[i])[1:-1].replace(\",\",\"\")+\"\\n\"\n",
    "\n",
    "# output\n",
    "f1 = open(\"output_b.txt\",\"w\")\n",
    "f1.write(text)\n",
    "f1.close()"
   ]
  },
  {
   "cell_type": "code",
   "execution_count": null,
   "metadata": {},
   "outputs": [],
   "source": []
  }
 ],
 "metadata": {
  "colab": {
   "collapsed_sections": [],
   "name": "2k20_qualification.ipynb",
   "provenance": []
  },
  "kernelspec": {
   "display_name": "Python 3",
   "language": "python",
   "name": "python3"
  },
  "language_info": {
   "codemirror_mode": {
    "name": "ipython",
    "version": 3
   },
   "file_extension": ".py",
   "mimetype": "text/x-python",
   "name": "python",
   "nbconvert_exporter": "python",
   "pygments_lexer": "ipython3",
   "version": "3.7.4"
  }
 },
 "nbformat": 4,
 "nbformat_minor": 4
}
