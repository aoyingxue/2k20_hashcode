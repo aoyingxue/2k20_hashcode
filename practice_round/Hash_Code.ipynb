{
 "cells": [
  {
   "cell_type": "code",
   "execution_count": 2,
   "metadata": {
    "colab": {
     "base_uri": "https://localhost:8080/",
     "height": 122
    },
    "colab_type": "code",
    "executionInfo": {
     "elapsed": 17769,
     "status": "ok",
     "timestamp": 1579393000493,
     "user": {
      "displayName": "Yuki Ao",
      "photoUrl": "https://lh3.googleusercontent.com/a-/AAuE7mCJjqJ2oyRE1-li72G_nUZg5DSkVvbT-kVFyvj-cA=s64",
      "userId": "17910735223254103391"
     },
     "user_tz": 360
    },
    "id": "OBkrTUuI6sXx",
    "outputId": "b593c694-694e-43b8-97b6-bc6e3df039c5"
   },
   "outputs": [
    {
     "name": "stdout",
     "output_type": "stream",
     "text": [
      "Go to this URL in a browser: https://accounts.google.com/o/oauth2/auth?client_id=947318989803-6bn6qk8qdgf4n4g3pfee6491hc0brc4i.apps.googleusercontent.com&redirect_uri=urn%3aietf%3awg%3aoauth%3a2.0%3aoob&response_type=code&scope=email%20https%3a%2f%2fwww.googleapis.com%2fauth%2fdocs.test%20https%3a%2f%2fwww.googleapis.com%2fauth%2fdrive%20https%3a%2f%2fwww.googleapis.com%2fauth%2fdrive.photos.readonly%20https%3a%2f%2fwww.googleapis.com%2fauth%2fpeopleapi.readonly\n",
      "\n",
      "Enter your authorization code:\n",
      "··········\n",
      "Mounted at /content/drive\n"
     ]
    }
   ],
   "source": [
    "from google.colab import drive\n",
    "drive.mount('/content/drive')"
   ]
  },
  {
   "cell_type": "code",
   "execution_count": null,
   "metadata": {
    "colab": {},
    "colab_type": "code",
    "id": "DnvR5ZtP64SE"
   },
   "outputs": [],
   "source": [
    "import os\n",
    "os.chdir(\"/content/drive/My Drive/HashCode\")\n"
   ]
  },
  {
   "cell_type": "code",
   "execution_count": 1,
   "metadata": {
    "colab": {},
    "colab_type": "code",
    "id": "F2UcI5UZ6niC",
    "pycharm": {
     "is_executing": false
    }
   },
   "outputs": [],
   "source": [
    "import numpy as np\n",
    "import pandas as pd\n",
    "\n",
    "f = open(\"d_quite_big.in\", \"r\")\n",
    "\n",
    "input1 = f.read().strip(\"\\n\").split(\"\\n\")"
   ]
  },
  {
   "cell_type": "code",
   "execution_count": 2,
   "metadata": {
    "colab": {},
    "colab_type": "code",
    "id": "rrSsm5FI6niL",
    "pycharm": {
     "is_executing": false
    }
   },
   "outputs": [],
   "source": [
    "input2=[]\n",
    "for i in range(len(input1)):\n",
    "    input2+=input1[i].split(\" \")\n",
    "\n",
    "input3= [int(x) for x in input2]\n",
    "\n",
    "M = input3[0]\n",
    "N = input3[1]\n",
    "\n",
    "S = input3[2:]"
   ]
  },
  {
   "cell_type": "code",
   "execution_count": null,
   "metadata": {},
   "outputs": [],
   "source": [
    "knapsack_mat"
   ]
  },
  {
   "cell_type": "code",
   "execution_count": 3,
   "metadata": {
    "colab": {},
    "colab_type": "code",
    "id": "oAVsX5uA6niP"
   },
   "outputs": [],
   "source": [
    "## W=capacity; w=weights; v=values; n=numbers of items (len())\n",
    "def Knapsack_mat(W,wt,val,n):\n",
    "    ## matrix to store final decision:[[value under given condition],[0/1 choose or not]]\n",
    "    mat=[[0 for i in range(int(W+1))]for j in range(n+1)]\n",
    "    \n",
    "    for i in range(int(n+1)):\n",
    "        for w in range(int(W+1)):\n",
    "            if i==0 or w==0: \n",
    "                ## base case: first column and row where there's no item\n",
    "                mat[i][int(w)]=0\n",
    "                \n",
    "            elif wt[i-1]<=w: \n",
    "                ## can be stored in bag with chosen weight capacity\n",
    "                ## compared with the result presented in the last row\n",
    "                mat[i][int(w)]=max(val[i - 1]+mat[i - 1][w - wt[i - 1]],\n",
    "                              mat[i - 1][int(w)])\n",
    "            \n",
    "            else:\n",
    "                mat[i][int(w)]=mat[i-1][int(w)]\n",
    "                \n",
    "    ## the optimized maximum value\n",
    "    final_value=mat[-1][-1]\n",
    "    \n",
    "    ## find which are selected in the final problem backwards after the search is completed\n",
    "    final_selection=[]\n",
    "    w=W    \n",
    "    for i in range(n,0,-1):\n",
    "        if mat[i][int(w)]>mat[i-1][int(w)]:\n",
    "            final_selection.append(i-1)\n",
    "            #print(wt[i-1])\n",
    "            w-=wt[i-1]        \n",
    "    return sorted(final_selection),final_value"
   ]
  },
  {
   "cell_type": "code",
   "execution_count": null,
   "metadata": {
    "colab": {},
    "colab_type": "code",
    "id": "npcwlRqY6niU"
   },
   "outputs": [],
   "source": [
    "weights = values = S\n",
    "\n",
    "output = Knapsack_mat(M, S, S, N)\n",
    "\n",
    "text = str(len(output[0])) + \"\\n\" + str(output[0])[1:-1].replace(\",\",\"\")"
   ]
  },
  {
   "cell_type": "code",
   "execution_count": null,
   "metadata": {
    "colab": {},
    "colab_type": "code",
    "id": "RxkKtYRx6niZ"
   },
   "outputs": [],
   "source": [
    "f1 = open(\"output_d.txt\",\"w\")\n",
    "f1.write(text)\n",
    "f1.close()"
   ]
  },
  {
   "cell_type": "code",
   "execution_count": null,
   "metadata": {
    "colab": {},
    "colab_type": "code",
    "id": "93pIiYotJZAv"
   },
   "outputs": [],
   "source": []
  }
 ],
 "metadata": {
  "accelerator": "GPU",
  "colab": {
   "collapsed_sections": [],
   "machine_shape": "hm",
   "name": "Hash_Code.ipynb",
   "provenance": []
  },
  "kernelspec": {
   "name": "python3",
   "language": "python",
   "display_name": "Python 3"
  },
  "language_info": {
   "codemirror_mode": {
    "name": "ipython",
    "version": 3
   },
   "file_extension": ".py",
   "mimetype": "text/x-python",
   "name": "python",
   "nbconvert_exporter": "python",
   "pygments_lexer": "ipython3",
   "version": "3.7.4"
  },
  "toc": {
   "nav_menu": {
    "height": "30px",
    "width": "252px"
   },
   "number_sections": true,
   "sideBar": true,
   "skip_h1_title": false,
   "toc_cell": false,
   "toc_position": {},
   "toc_section_display": "block",
   "toc_window_display": false
  }
 },
 "nbformat": 4,
 "nbformat_minor": 4
}